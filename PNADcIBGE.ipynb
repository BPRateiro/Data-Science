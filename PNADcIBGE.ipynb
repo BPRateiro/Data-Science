{
 "cells": [
  {
   "cell_type": "markdown",
   "source": [
    "# Brazil and São Paulo's average income progress compared.\n",
    "\n",
    "In this study we compare average income changes between Brazil and its richest city São Paulo. Considering a quarterly period from 2012 to 2020 and difference between education levels.\n",
    "Data was queried using [(IBGE) Brazilian Institute of Geography and Statistics' API](https://servicodados.ibge.gov.br/api/docs/agregados?versao=3), read using *pandas* and prepared for plotting on *matplotlib* and *seaborn*."
   ],
   "metadata": {
    "collapsed": false,
    "pycharm": {
     "name": "#%% md\n"
    }
   }
  },
  {
   "cell_type": "markdown",
   "source": [
    "### Data querying.\n",
    "\n",
    "We are interested in exploring differences between São Paulo and Brazil's average income.\n",
    "IBGE's National Sample Survey of Households (PNAD) - specifically aggregated data code 5935 - was queried considering the following criteria:\n",
    "- Average income of all citizens, regardless of education level;\n",
    "- Average income of citizens that completed high school;\n",
    "- Average income of citizens that have a degree;\n",
    "- All quarterly periods available.\n",
    "\n",
    "The following query link was obtained using the [IBGE's query builder](https://servicodados.ibge.gov.br/api/docs/agregados?versao=3#api-bq)."
   ],
   "metadata": {
    "collapsed": false,
    "pycharm": {
     "name": "#%% md\n"
    }
   }
  },
  {
   "cell_type": "code",
   "execution_count": 1,
   "outputs": [],
   "source": [
    "IBGE_query = 'https://servicodados.ibge.gov.br/api/v3/agregados/5438/periodos/201201|201202|201203|201204|201301|201302|201303|201304|201401|201402|201403|201404|201501|201502|201503|201504|201601|201602|201603|201604|201701|201702|201703|201704|201801|201802|201803|201804|201901|201902|201903|201904|202001/variaveis/5935?localidades=N1[all]|N6[3550308]&classificacao=1568[120704,11630,11632]'"
   ],
   "metadata": {
    "collapsed": false,
    "pycharm": {
     "name": "#%%\n"
    }
   }
  },
  {
   "cell_type": "code",
   "execution_count": 2,
   "outputs": [
    {
     "data": {
      "text/plain": "     id                                           variavel unidade  \\\n0  5935  Rendimento médio real de todos os trabalhos, e...   Reais   \n\n                                          resultados  \n0  [{'classificacoes': [{'id': '1568', 'nome': 'N...  ",
      "text/html": "<div>\n<style scoped>\n    .dataframe tbody tr th:only-of-type {\n        vertical-align: middle;\n    }\n\n    .dataframe tbody tr th {\n        vertical-align: top;\n    }\n\n    .dataframe thead th {\n        text-align: right;\n    }\n</style>\n<table border=\"1\" class=\"dataframe\">\n  <thead>\n    <tr style=\"text-align: right;\">\n      <th></th>\n      <th>id</th>\n      <th>variavel</th>\n      <th>unidade</th>\n      <th>resultados</th>\n    </tr>\n  </thead>\n  <tbody>\n    <tr>\n      <th>0</th>\n      <td>5935</td>\n      <td>Rendimento médio real de todos os trabalhos, e...</td>\n      <td>Reais</td>\n      <td>[{'classificacoes': [{'id': '1568', 'nome': 'N...</td>\n    </tr>\n  </tbody>\n</table>\n</div>"
     },
     "execution_count": 2,
     "metadata": {},
     "output_type": "execute_result"
    }
   ],
   "source": [
    "import pandas as pd\n",
    "\n",
    "data = pd.read_json(IBGE_query)\n",
    "data"
   ],
   "metadata": {
    "collapsed": false,
    "pycharm": {
     "name": "#%%\n"
    }
   }
  },
  {
   "cell_type": "markdown",
   "source": [
    "Because the JSON received has its particularities, we are going to use *pandas* to organize data in tabular form.\n",
    "\n",
    "### Preparing Data\n",
    "\n",
    "In addition to the time series themselves, the last column of the *'data'* contains education level labels.\n",
    "This column needs to be expanded, time series extracted and correctly labeled."
   ],
   "metadata": {
    "collapsed": false,
    "pycharm": {
     "name": "#%% md\n"
    }
   }
  },
  {
   "cell_type": "code",
   "execution_count": 24,
   "outputs": [
    {
     "data": {
      "text/plain": "  Falselocalidade.id Falselocalidade.nivel.id Falselocalidade.nivel.nome  \\\n0                  1                       N1                     Brasil   \n1            3550308                       N6                  Município   \n2                  1                       N1                     Brasil   \n3            3550308                       N6                  Município   \n4                  1                       N1                     Brasil   \n5            3550308                       N6                  Município   \n\n  Falselocalidade.nome Falseserie.201201 Falseserie.201202 Falseserie.201203  \\\n0               Brasil              2729              2575              2597   \n1       São Paulo (SP)              4009              3948              3988   \n2               Brasil              2452              2282              2281   \n3       São Paulo (SP)              2716              2542              2492   \n4               Brasil              7081              6606              6621   \n5       São Paulo (SP)              8814              8388              8498   \n\n  Falseserie.201204 Falseserie.201301 Falseserie.201302  ...  \\\n0              2617              2745              2650  ...   \n1              4139              4068              4198  ...   \n2              2289              2405              2333  ...   \n3              2590              2772              2795  ...   \n4              6602              6881              6597  ...   \n5              8646              8197              8573  ...   \n\n  Falseserie.201802 Falseserie.201803 Falseserie.201804 Falseserie.201901  \\\n0              2727              2729              2820              3022   \n1              4731              4546              4996              5142   \n2              2146              2121              2210              2338   \n3              2602              2494              2690              2579   \n4              6205              6249              6368              6790   \n5              9734              9319             10023             10272   \n\n  Falseserie.201902 Falseserie.201903 Falseserie.201904 Falseserie.202001  \\\n0              2721              2736              2851              3044   \n1              4621              4570              4823              5140   \n2              2098              2101              2188              2288   \n3              2292              2250              2410              2540   \n4              6081              6154              6398              6715   \n5              9315              9206              9596              9850   \n\n                                      classificacoes  \\\n0  {'id': '1568', 'nome': 'Nível de instrução', '...   \n1  {'id': '1568', 'nome': 'Nível de instrução', '...   \n2  {'id': '1568', 'nome': 'Nível de instrução', '...   \n3  {'id': '1568', 'nome': 'Nível de instrução', '...   \n4  {'id': '1568', 'nome': 'Nível de instrução', '...   \n5  {'id': '1568', 'nome': 'Nível de instrução', '...   \n\n                                 categoria  \n0                                    Total  \n1                                    Total  \n2     Ensino médio completo ou equivalente  \n3     Ensino médio completo ou equivalente  \n4  Ensino superior completo ou equivalente  \n5  Ensino superior completo ou equivalente  \n\n[6 rows x 39 columns]",
      "text/html": "<div>\n<style scoped>\n    .dataframe tbody tr th:only-of-type {\n        vertical-align: middle;\n    }\n\n    .dataframe tbody tr th {\n        vertical-align: top;\n    }\n\n    .dataframe thead th {\n        text-align: right;\n    }\n</style>\n<table border=\"1\" class=\"dataframe\">\n  <thead>\n    <tr style=\"text-align: right;\">\n      <th></th>\n      <th>Falselocalidade.id</th>\n      <th>Falselocalidade.nivel.id</th>\n      <th>Falselocalidade.nivel.nome</th>\n      <th>Falselocalidade.nome</th>\n      <th>Falseserie.201201</th>\n      <th>Falseserie.201202</th>\n      <th>Falseserie.201203</th>\n      <th>Falseserie.201204</th>\n      <th>Falseserie.201301</th>\n      <th>Falseserie.201302</th>\n      <th>...</th>\n      <th>Falseserie.201802</th>\n      <th>Falseserie.201803</th>\n      <th>Falseserie.201804</th>\n      <th>Falseserie.201901</th>\n      <th>Falseserie.201902</th>\n      <th>Falseserie.201903</th>\n      <th>Falseserie.201904</th>\n      <th>Falseserie.202001</th>\n      <th>classificacoes</th>\n      <th>categoria</th>\n    </tr>\n  </thead>\n  <tbody>\n    <tr>\n      <th>0</th>\n      <td>1</td>\n      <td>N1</td>\n      <td>Brasil</td>\n      <td>Brasil</td>\n      <td>2729</td>\n      <td>2575</td>\n      <td>2597</td>\n      <td>2617</td>\n      <td>2745</td>\n      <td>2650</td>\n      <td>...</td>\n      <td>2727</td>\n      <td>2729</td>\n      <td>2820</td>\n      <td>3022</td>\n      <td>2721</td>\n      <td>2736</td>\n      <td>2851</td>\n      <td>3044</td>\n      <td>{'id': '1568', 'nome': 'Nível de instrução', '...</td>\n      <td>Total</td>\n    </tr>\n    <tr>\n      <th>1</th>\n      <td>3550308</td>\n      <td>N6</td>\n      <td>Município</td>\n      <td>São Paulo (SP)</td>\n      <td>4009</td>\n      <td>3948</td>\n      <td>3988</td>\n      <td>4139</td>\n      <td>4068</td>\n      <td>4198</td>\n      <td>...</td>\n      <td>4731</td>\n      <td>4546</td>\n      <td>4996</td>\n      <td>5142</td>\n      <td>4621</td>\n      <td>4570</td>\n      <td>4823</td>\n      <td>5140</td>\n      <td>{'id': '1568', 'nome': 'Nível de instrução', '...</td>\n      <td>Total</td>\n    </tr>\n    <tr>\n      <th>2</th>\n      <td>1</td>\n      <td>N1</td>\n      <td>Brasil</td>\n      <td>Brasil</td>\n      <td>2452</td>\n      <td>2282</td>\n      <td>2281</td>\n      <td>2289</td>\n      <td>2405</td>\n      <td>2333</td>\n      <td>...</td>\n      <td>2146</td>\n      <td>2121</td>\n      <td>2210</td>\n      <td>2338</td>\n      <td>2098</td>\n      <td>2101</td>\n      <td>2188</td>\n      <td>2288</td>\n      <td>{'id': '1568', 'nome': 'Nível de instrução', '...</td>\n      <td>Ensino médio completo ou equivalente</td>\n    </tr>\n    <tr>\n      <th>3</th>\n      <td>3550308</td>\n      <td>N6</td>\n      <td>Município</td>\n      <td>São Paulo (SP)</td>\n      <td>2716</td>\n      <td>2542</td>\n      <td>2492</td>\n      <td>2590</td>\n      <td>2772</td>\n      <td>2795</td>\n      <td>...</td>\n      <td>2602</td>\n      <td>2494</td>\n      <td>2690</td>\n      <td>2579</td>\n      <td>2292</td>\n      <td>2250</td>\n      <td>2410</td>\n      <td>2540</td>\n      <td>{'id': '1568', 'nome': 'Nível de instrução', '...</td>\n      <td>Ensino médio completo ou equivalente</td>\n    </tr>\n    <tr>\n      <th>4</th>\n      <td>1</td>\n      <td>N1</td>\n      <td>Brasil</td>\n      <td>Brasil</td>\n      <td>7081</td>\n      <td>6606</td>\n      <td>6621</td>\n      <td>6602</td>\n      <td>6881</td>\n      <td>6597</td>\n      <td>...</td>\n      <td>6205</td>\n      <td>6249</td>\n      <td>6368</td>\n      <td>6790</td>\n      <td>6081</td>\n      <td>6154</td>\n      <td>6398</td>\n      <td>6715</td>\n      <td>{'id': '1568', 'nome': 'Nível de instrução', '...</td>\n      <td>Ensino superior completo ou equivalente</td>\n    </tr>\n    <tr>\n      <th>5</th>\n      <td>3550308</td>\n      <td>N6</td>\n      <td>Município</td>\n      <td>São Paulo (SP)</td>\n      <td>8814</td>\n      <td>8388</td>\n      <td>8498</td>\n      <td>8646</td>\n      <td>8197</td>\n      <td>8573</td>\n      <td>...</td>\n      <td>9734</td>\n      <td>9319</td>\n      <td>10023</td>\n      <td>10272</td>\n      <td>9315</td>\n      <td>9206</td>\n      <td>9596</td>\n      <td>9850</td>\n      <td>{'id': '1568', 'nome': 'Nível de instrução', '...</td>\n      <td>Ensino superior completo ou equivalente</td>\n    </tr>\n  </tbody>\n</table>\n<p>6 rows × 39 columns</p>\n</div>"
     },
     "execution_count": 24,
     "metadata": {},
     "output_type": "execute_result"
    }
   ],
   "source": [
    "# Normalizing json and finding series of interest, gathering useful data labels.\n",
    "average_income = pd.json_normalize(data.iloc[0,3],\n",
    "                                   record_path='series',\n",
    "                                   meta=['classificacoes'])\n",
    "\n",
    "# Extract category from nested JSON\n",
    "average_income['categoria']= average_income['classificacoes'].apply(lambda x:list(x['categoria'].values())[0])\n",
    "\n",
    "# # Dropping redundant columns, translating some names and setting category as new index\n",
    "# average_income = average_income.drop(columns=['localidade.id', 'localidade.nivel.id',\n",
    "#                                               'localidade.nivel.nome', 'classificacoes'])\n",
    "# average_income.replace({'Ensino médio completo ou equivalente': 'High School',\n",
    "#                         'Ensino superior completo ou equivalente': 'University',\n",
    "#                         'São Paulo (SP)': 'São Paulo',\n",
    "#                         'Brasil': 'Brazil'},\n",
    "#                        inplace = True)\n",
    "# average_income.set_index('categoria', inplace=True)\n",
    "\n",
    "average_income"
   ],
   "metadata": {
    "collapsed": false,
    "pycharm": {
     "name": "#%%\n"
    }
   }
  },
  {
   "cell_type": "code",
   "execution_count": 3,
   "outputs": [],
   "source": [],
   "metadata": {
    "collapsed": false,
    "pycharm": {
     "name": "#%%\n"
    }
   }
  }
 ],
 "metadata": {
  "kernelspec": {
   "display_name": "Python 3",
   "language": "python",
   "name": "python3"
  },
  "language_info": {
   "codemirror_mode": {
    "name": "ipython",
    "version": 2
   },
   "file_extension": ".py",
   "mimetype": "text/x-python",
   "name": "python",
   "nbconvert_exporter": "python",
   "pygments_lexer": "ipython2",
   "version": "2.7.6"
  }
 },
 "nbformat": 4,
 "nbformat_minor": 0
}