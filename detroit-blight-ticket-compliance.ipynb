{
 "cells": [
  {
   "cell_type": "markdown",
   "id": "724fad5f",
   "metadata": {
    "papermill": {
     "duration": 0.005512,
     "end_time": "2022-09-02T19:56:05.984704",
     "exception": false,
     "start_time": "2022-09-02T19:56:05.979192",
     "status": "completed"
    },
    "tags": []
   },
   "source": [
    "# Detroit Blight Ticket Compliance\n",
    "\n",
    "According to [this CNBC article](https://www.cnbc.com/2014/05/28/eliminating-blight-could-cost-bankrupt-detroit-more-than-850-million.html), eliminating blight in the city of Detroit is estimated to cost \\$850 million. Fines are issued to infractors, but many remain unpaid. Motivated by a [competition](https://www.kaggle.com/competitions/detroit-blight-ticket-compliance/overview) that took place six ago, this study tackles blight ticket compliance.\n",
    "\n",
    "We will read, format and analyse two data sets containing training and test data seperately. The first will be used to fit various machine learning models, evaluated using a [AUC-ROC Curve](https://towardsdatascience.com/understanding-auc-roc-curve-68b2303cc9c5) criteria. The latter will be used to predict if blight ticket will be paid on time.\n",
    "\n",
    "As there are two categories for our prediction target - will be paid on time or it won't, this is a classification problem.\n",
    "\n",
    "<div style=\"width:100%;text-align: center;\"> <img align=middle src=\"https://image.cnbcfm.com/api/v1/image/101425482-DetroitWinter8.jpg?v=1394564303&w=630&h=354\" alt=\"Heat beating\" style=\"height:300px;margin-top:1rem;margin-bottom:1rem;\"> </div>"
   ]
  },
  {
   "cell_type": "markdown",
   "id": "564a93e9",
   "metadata": {
    "papermill": {
     "duration": 0.00361,
     "end_time": "2022-09-02T19:56:05.992510",
     "exception": false,
     "start_time": "2022-09-02T19:56:05.988900",
     "status": "completed"
    },
    "tags": []
   },
   "source": [
    "## 1.    Data processing\n",
    "\n",
    "### 1.1    Reading Data\n",
    "\n",
    "The main data sets considered in this study are:\n",
    "* **training_set** (from *train.csv*): training set, containing tickets issued from 2004 to 2011;\n",
    "* **test_set** (from *test.csv*): test set, containing tickets issued from 2012 to 2016.\n",
    "\n",
    "Two complementary data sets that combined provides geographic information:\n",
    "* **adresses** (from *addresses.csv*): mapping from ticket id to addresses;\n",
    "* **coordinates** (from *latlons.csv*): mapping from addresses to latitude and longitude coordinates.\n"
   ]
  },
  {
   "cell_type": "code",
   "execution_count": 1,
   "id": "423cf820",
   "metadata": {
    "execution": {
     "iopub.execute_input": "2022-09-02T19:56:06.003251Z",
     "iopub.status.busy": "2022-09-02T19:56:06.002019Z",
     "iopub.status.idle": "2022-09-02T19:56:10.490681Z",
     "shell.execute_reply": "2022-09-02T19:56:10.489540Z"
    },
    "papermill": {
     "duration": 4.497347,
     "end_time": "2022-09-02T19:56:10.493663",
     "exception": false,
     "start_time": "2022-09-02T19:56:05.996316",
     "status": "completed"
    },
    "tags": []
   },
   "outputs": [],
   "source": [
    "import numpy as np \n",
    "import pandas as pd\n",
    "\n",
    "# Reading training set\n",
    "training_set = pd.read_csv('/kaggle/input/detroit-blight-ticket/train.csv',\n",
    "                           index_col='ticket_id',                           \n",
    "                           encoding=\"ISO-8859-1\",\n",
    "                           low_memory=False)\n",
    "training_set.name = 'training_set'\n",
    "\n",
    "# Reading test set\n",
    "test_set = pd.read_csv('/kaggle/input/detroit-blight-ticket/test.csv',\n",
    "                       index_col='ticket_id')\n",
    "test_set.name = 'test_set'\n",
    "\n",
    "# Reading addresses\n",
    "addresses = pd.read_csv('/kaggle/input/detroit-blight-ticket/addresses.csv')\n",
    "addresses.name = 'addresses'\n",
    "\n",
    "# Reading coordinates\n",
    "coordinates = pd.read_csv('/kaggle/input/detroit-blight-ticket/latlons.csv')\n",
    "coordinates.name = 'coordinates'"
   ]
  },
  {
   "cell_type": "code",
   "execution_count": 2,
   "id": "f2817654",
   "metadata": {
    "execution": {
     "iopub.execute_input": "2022-09-02T19:56:10.502835Z",
     "iopub.status.busy": "2022-09-02T19:56:10.502429Z",
     "iopub.status.idle": "2022-09-02T19:56:10.509684Z",
     "shell.execute_reply": "2022-09-02T19:56:10.508883Z"
    },
    "papermill": {
     "duration": 0.01576,
     "end_time": "2022-09-02T19:56:10.513297",
     "exception": false,
     "start_time": "2022-09-02T19:56:10.497537",
     "status": "completed"
    },
    "tags": []
   },
   "outputs": [
    {
     "name": "stdout",
     "output_type": "stream",
     "text": [
      "DataFrame 'training_set' has 33 columns: \n",
      "agency_name, inspector_name, violator_name, violation_street_number, violation_street_name, violation_zip_code, mailing_address_str_number, mailing_address_str_name, city, state, zip_code, non_us_str_code, country, ticket_issued_date, hearing_date, violation_code, violation_description, disposition, fine_amount, admin_fee, state_fee, late_fee, discount_amount, clean_up_cost, judgment_amount, payment_amount, balance_due, payment_date, payment_status, collection_status, grafitti_status, compliance_detail, compliance.\n",
      "\n",
      "DataFrame 'test_set' has 26 columns: \n",
      "agency_name, inspector_name, violator_name, violation_street_number, violation_street_name, violation_zip_code, mailing_address_str_number, mailing_address_str_name, city, state, zip_code, non_us_str_code, country, ticket_issued_date, hearing_date, violation_code, violation_description, disposition, fine_amount, admin_fee, state_fee, late_fee, discount_amount, clean_up_cost, judgment_amount, grafitti_status.\n",
      "\n",
      "DataFrame 'addresses' has 2 columns: \n",
      "ticket_id, address.\n",
      "\n",
      "DataFrame 'coordinates' has 3 columns: \n",
      "address, lat, lon.\n",
      "\n"
     ]
    }
   ],
   "source": [
    "def columns(df):\n",
    "    \"\"\"From a dataframe df, get a report of column names\"\"\"\n",
    "    \n",
    "    columns = ', '.join(df.columns)\n",
    "    length = len(df.columns)\n",
    "    plural = 's' if length-1 else ''\n",
    "    \n",
    "    print(f\"DataFrame '{df.name}' has {length} column{plural}: \\n\"+ columns+'.\\n')\n",
    "    \n",
    "for df in [training_set, test_set, addresses, coordinates]:\n",
    "    columns(df)"
   ]
  },
  {
   "cell_type": "markdown",
   "id": "8712b9cf",
   "metadata": {
    "papermill": {
     "duration": 0.003548,
     "end_time": "2022-09-02T19:56:10.520952",
     "exception": false,
     "start_time": "2022-09-02T19:56:10.517404",
     "status": "completed"
    },
    "tags": []
   },
   "source": [
    "### 1.2 Combining DataFrames\n",
    "\n",
    "Before starting our analysis, *addresses* and *coordinates* combined will provide mappings from ticket IDs for both *training_set* and *test_set*."
   ]
  },
  {
   "cell_type": "code",
   "execution_count": 3,
   "id": "d62dce3f",
   "metadata": {
    "execution": {
     "iopub.execute_input": "2022-09-02T19:56:10.530594Z",
     "iopub.status.busy": "2022-09-02T19:56:10.529624Z",
     "iopub.status.idle": "2022-09-02T19:56:11.287649Z",
     "shell.execute_reply": "2022-09-02T19:56:11.286456Z"
    },
    "papermill": {
     "duration": 0.765587,
     "end_time": "2022-09-02T19:56:11.290272",
     "exception": false,
     "start_time": "2022-09-02T19:56:10.524685",
     "status": "completed"
    },
    "tags": []
   },
   "outputs": [
    {
     "data": {
      "text/html": [
       "<div>\n",
       "<style scoped>\n",
       "    .dataframe tbody tr th:only-of-type {\n",
       "        vertical-align: middle;\n",
       "    }\n",
       "\n",
       "    .dataframe tbody tr th {\n",
       "        vertical-align: top;\n",
       "    }\n",
       "\n",
       "    .dataframe thead th {\n",
       "        text-align: right;\n",
       "    }\n",
       "</style>\n",
       "<table border=\"1\" class=\"dataframe\">\n",
       "  <thead>\n",
       "    <tr style=\"text-align: right;\">\n",
       "      <th></th>\n",
       "      <th>address</th>\n",
       "      <th>lat</th>\n",
       "      <th>lon</th>\n",
       "    </tr>\n",
       "    <tr>\n",
       "      <th>ticket_id</th>\n",
       "      <th></th>\n",
       "      <th></th>\n",
       "      <th></th>\n",
       "    </tr>\n",
       "  </thead>\n",
       "  <tbody>\n",
       "    <tr>\n",
       "      <th>89535</th>\n",
       "      <td>20424 bramford, Detroit MI</td>\n",
       "      <td>NaN</td>\n",
       "      <td>NaN</td>\n",
       "    </tr>\n",
       "    <tr>\n",
       "      <th>223598</th>\n",
       "      <td>445 fordyce, Detroit MI</td>\n",
       "      <td>NaN</td>\n",
       "      <td>NaN</td>\n",
       "    </tr>\n",
       "    <tr>\n",
       "      <th>280256</th>\n",
       "      <td>8300 fordyce, Detroit MI</td>\n",
       "      <td>NaN</td>\n",
       "      <td>NaN</td>\n",
       "    </tr>\n",
       "    <tr>\n",
       "      <th>317124</th>\n",
       "      <td>20424 bramford, Detroit MI</td>\n",
       "      <td>NaN</td>\n",
       "      <td>NaN</td>\n",
       "    </tr>\n",
       "    <tr>\n",
       "      <th>329689</th>\n",
       "      <td>8325 joy rd, Detroit MI 482O4</td>\n",
       "      <td>NaN</td>\n",
       "      <td>NaN</td>\n",
       "    </tr>\n",
       "    <tr>\n",
       "      <th>329393</th>\n",
       "      <td>1201 elijah mccoy dr, Detroit MI 48208</td>\n",
       "      <td>NaN</td>\n",
       "      <td>NaN</td>\n",
       "    </tr>\n",
       "    <tr>\n",
       "      <th>333990</th>\n",
       "      <td>12038 prairie, Detroit MI 482O4</td>\n",
       "      <td>NaN</td>\n",
       "      <td>NaN</td>\n",
       "    </tr>\n",
       "    <tr>\n",
       "      <th>367165</th>\n",
       "      <td>6200 16th st, Detroit MI 482O8</td>\n",
       "      <td>NaN</td>\n",
       "      <td>NaN</td>\n",
       "    </tr>\n",
       "  </tbody>\n",
       "</table>\n",
       "</div>"
      ],
      "text/plain": [
       "                                          address  lat  lon\n",
       "ticket_id                                                  \n",
       "89535                  20424 bramford, Detroit MI  NaN  NaN\n",
       "223598                    445 fordyce, Detroit MI  NaN  NaN\n",
       "280256                   8300 fordyce, Detroit MI  NaN  NaN\n",
       "317124                 20424 bramford, Detroit MI  NaN  NaN\n",
       "329689              8325 joy rd, Detroit MI 482O4  NaN  NaN\n",
       "329393     1201 elijah mccoy dr, Detroit MI 48208  NaN  NaN\n",
       "333990            12038 prairie, Detroit MI 482O4  NaN  NaN\n",
       "367165             6200 16th st, Detroit MI 482O8  NaN  NaN"
      ]
     },
     "execution_count": 3,
     "metadata": {},
     "output_type": "execute_result"
    }
   ],
   "source": [
    "# Combining 'addresses' and 'coordinates' to create a 'mapping' DataFrame\n",
    "mapping = addresses.merge(coordinates,\n",
    "                         how='left',\n",
    "                         on='address',\n",
    "                         validate='m:1')\n",
    "mapping.set_index('ticket_id',\n",
    "                 inplace=True)\n",
    "\n",
    "# Checking how many addresses didn't get coordinates mapped\n",
    "mapping[mapping.lat.isnull()|mapping.lon.isnull()]"
   ]
  },
  {
   "cell_type": "code",
   "execution_count": 4,
   "id": "a0ea6d91",
   "metadata": {
    "execution": {
     "iopub.execute_input": "2022-09-02T19:56:11.301045Z",
     "iopub.status.busy": "2022-09-02T19:56:11.300620Z",
     "iopub.status.idle": "2022-09-02T19:56:11.578899Z",
     "shell.execute_reply": "2022-09-02T19:56:11.577665Z"
    },
    "papermill": {
     "duration": 0.286724,
     "end_time": "2022-09-02T19:56:11.581706",
     "exception": false,
     "start_time": "2022-09-02T19:56:11.294982",
     "status": "completed"
    },
    "tags": []
   },
   "outputs": [
    {
     "name": "stdout",
     "output_type": "stream",
     "text": [
      "<class 'pandas.core.frame.DataFrame'>\n",
      "Int64Index: 311307 entries, 22056 to 369851\n",
      "Data columns (total 3 columns):\n",
      " #   Column   Non-Null Count   Dtype  \n",
      "---  ------   --------------   -----  \n",
      " 0   address  311307 non-null  object \n",
      " 1   lat      311307 non-null  float64\n",
      " 2   lon      311307 non-null  float64\n",
      "dtypes: float64(2), object(1)\n",
      "memory usage: 9.5+ MB\n"
     ]
    }
   ],
   "source": [
    "# There are seven addresses that didn't get coordinates mapped, so we will correct it manually\n",
    "mapping.loc[mapping.address=='20424 bramford, Detroit MI', ['lat', 'lon']] = [42.446541, -83.023300]\n",
    "mapping.loc[mapping.address=='8300 fordyce, Detroit MI', ['lat', 'lon']] = [42.383251, -83.058189]\n",
    "mapping.loc[mapping.address=='445 fordyce, Detroit MI', ['lat', 'lon']] = [42.328590, -83.051460]\n",
    "mapping.loc[mapping.address=='8325 joy rd, Detroit MI 482O4', ['lat', 'lon']] = [42.358910, -83.151329]\n",
    "mapping.loc[mapping.address=='1201 elijah mccoy dr, Detroit MI 48208', ['lat', 'lon']] = [42.35891, -83.08291]\n",
    "mapping.loc[mapping.address=='12038 prairie, Detroit MI 482O4', ['lat', 'lon']] = [42.37675, -83.14319]\n",
    "mapping.loc[mapping.address=='6200 16th st, Detroit MI 482O8', ['lat', 'lon']] = [42.35995, -83.09583]\n",
    "\n",
    "mapping.info()"
   ]
  },
  {
   "cell_type": "code",
   "execution_count": 5,
   "id": "626d3b3c",
   "metadata": {
    "execution": {
     "iopub.execute_input": "2022-09-02T19:56:11.593854Z",
     "iopub.status.busy": "2022-09-02T19:56:11.593129Z",
     "iopub.status.idle": "2022-09-02T19:56:11.765541Z",
     "shell.execute_reply": "2022-09-02T19:56:11.764298Z"
    },
    "papermill": {
     "duration": 0.181434,
     "end_time": "2022-09-02T19:56:11.768511",
     "exception": false,
     "start_time": "2022-09-02T19:56:11.587077",
     "status": "completed"
    },
    "tags": []
   },
   "outputs": [],
   "source": [
    "# Combining 'mapping' with both 'training_set' and 'test_set'\n",
    "mapped_training_set = training_set.join(mapping, how='left')\n",
    "mapped_training_set.name = 'mapped_training_set'\n",
    "\n",
    "mapped_test_set = test_set.join(mapping, how='left')\n",
    "mapped_test_set.name = 'mapped_test_set'"
   ]
  },
  {
   "cell_type": "markdown",
   "id": "f50b0ae1",
   "metadata": {
    "papermill": {
     "duration": 0.004183,
     "end_time": "2022-09-02T19:56:11.777129",
     "exception": false,
     "start_time": "2022-09-02T19:56:11.772946",
     "status": "completed"
    },
    "tags": []
   },
   "source": [
    "### 1.3 Feature selection\n",
    "\n",
    "Not all columns available in both *test_set* and *training_set* will be considered as features. Discarding columns that will not be considered as features beforehand will reduce data cleaning complexity."
   ]
  },
  {
   "cell_type": "code",
   "execution_count": 6,
   "id": "d48f6f06",
   "metadata": {
    "execution": {
     "iopub.execute_input": "2022-09-02T19:56:11.787393Z",
     "iopub.status.busy": "2022-09-02T19:56:11.786960Z",
     "iopub.status.idle": "2022-09-02T19:56:12.102916Z",
     "shell.execute_reply": "2022-09-02T19:56:12.101270Z"
    },
    "papermill": {
     "duration": 0.325086,
     "end_time": "2022-09-02T19:56:12.106512",
     "exception": false,
     "start_time": "2022-09-02T19:56:11.781426",
     "status": "completed"
    },
    "tags": []
   },
   "outputs": [
    {
     "name": "stdout",
     "output_type": "stream",
     "text": [
      "<class 'pandas.core.frame.DataFrame'>\n",
      "Int64Index: 250306 entries, 22056 to 325561\n",
      "Data columns (total 36 columns):\n",
      " #   Column                      Non-Null Count   Dtype  \n",
      "---  ------                      --------------   -----  \n",
      " 0   agency_name                 250306 non-null  object \n",
      " 1   inspector_name              250306 non-null  object \n",
      " 2   violator_name               250272 non-null  object \n",
      " 3   violation_street_number     250306 non-null  float64\n",
      " 4   violation_street_name       250306 non-null  object \n",
      " 5   violation_zip_code          0 non-null       float64\n",
      " 6   mailing_address_str_number  246704 non-null  float64\n",
      " 7   mailing_address_str_name    250302 non-null  object \n",
      " 8   city                        250306 non-null  object \n",
      " 9   state                       250213 non-null  object \n",
      " 10  zip_code                    250305 non-null  object \n",
      " 11  non_us_str_code             3 non-null       object \n",
      " 12  country                     250306 non-null  object \n",
      " 13  ticket_issued_date          250306 non-null  object \n",
      " 14  hearing_date                237815 non-null  object \n",
      " 15  violation_code              250306 non-null  object \n",
      " 16  violation_description       250306 non-null  object \n",
      " 17  disposition                 250306 non-null  object \n",
      " 18  fine_amount                 250305 non-null  float64\n",
      " 19  admin_fee                   250306 non-null  float64\n",
      " 20  state_fee                   250306 non-null  float64\n",
      " 21  late_fee                    250306 non-null  float64\n",
      " 22  discount_amount             250306 non-null  float64\n",
      " 23  clean_up_cost               250306 non-null  float64\n",
      " 24  judgment_amount             250306 non-null  float64\n",
      " 25  payment_amount              250306 non-null  float64\n",
      " 26  balance_due                 250306 non-null  float64\n",
      " 27  payment_date                41113 non-null   object \n",
      " 28  payment_status              250306 non-null  object \n",
      " 29  collection_status           36897 non-null   object \n",
      " 30  grafitti_status             1 non-null       object \n",
      " 31  compliance_detail           250306 non-null  object \n",
      " 32  compliance                  159880 non-null  float64\n",
      " 33  address                     250306 non-null  object \n",
      " 34  lat                         250306 non-null  float64\n",
      " 35  lon                         250306 non-null  float64\n",
      "dtypes: float64(15), object(21)\n",
      "memory usage: 78.7+ MB\n",
      "\n",
      "\n",
      "<class 'pandas.core.frame.DataFrame'>\n",
      "Int64Index: 61001 entries, 284932 to 369851\n",
      "Data columns (total 29 columns):\n",
      " #   Column                      Non-Null Count  Dtype  \n",
      "---  ------                      --------------  -----  \n",
      " 0   agency_name                 61001 non-null  object \n",
      " 1   inspector_name              61001 non-null  object \n",
      " 2   violator_name               60973 non-null  object \n",
      " 3   violation_street_number     61001 non-null  float64\n",
      " 4   violation_street_name       61001 non-null  object \n",
      " 5   violation_zip_code          24024 non-null  object \n",
      " 6   mailing_address_str_number  59987 non-null  object \n",
      " 7   mailing_address_str_name    60998 non-null  object \n",
      " 8   city                        61000 non-null  object \n",
      " 9   state                       60670 non-null  object \n",
      " 10  zip_code                    60998 non-null  object \n",
      " 11  non_us_str_code             0 non-null      float64\n",
      " 12  country                     61001 non-null  object \n",
      " 13  ticket_issued_date          61001 non-null  object \n",
      " 14  hearing_date                58804 non-null  object \n",
      " 15  violation_code              61001 non-null  object \n",
      " 16  violation_description       61001 non-null  object \n",
      " 17  disposition                 61001 non-null  object \n",
      " 18  fine_amount                 61001 non-null  float64\n",
      " 19  admin_fee                   61001 non-null  float64\n",
      " 20  state_fee                   61001 non-null  float64\n",
      " 21  late_fee                    61001 non-null  float64\n",
      " 22  discount_amount             61001 non-null  float64\n",
      " 23  clean_up_cost               61001 non-null  float64\n",
      " 24  judgment_amount             61001 non-null  float64\n",
      " 25  grafitti_status             2221 non-null   object \n",
      " 26  address                     61001 non-null  object \n",
      " 27  lat                         61001 non-null  float64\n",
      " 28  lon                         61001 non-null  float64\n",
      "dtypes: float64(11), object(18)\n",
      "memory usage: 16.0+ MB\n",
      "\n",
      "\n"
     ]
    }
   ],
   "source": [
    "for df in [mapped_training_set, mapped_test_set]:\n",
    "    df.info()\n",
    "    print('\\n')"
   ]
  },
  {
   "cell_type": "markdown",
   "id": "fc09cf71",
   "metadata": {
    "papermill": {
     "duration": 0.004206,
     "end_time": "2022-09-02T19:56:12.115702",
     "exception": false,
     "start_time": "2022-09-02T19:56:12.111496",
     "status": "completed"
    },
    "tags": []
   },
   "source": [
    "In order to use the model fit using *training_set* on *test_set*, both must have the same features. *training_set* has seven columns more than *test_set*. Let us investigate what these are."
   ]
  },
  {
   "cell_type": "code",
   "execution_count": 7,
   "id": "74da9691",
   "metadata": {
    "execution": {
     "iopub.execute_input": "2022-09-02T19:56:12.126794Z",
     "iopub.status.busy": "2022-09-02T19:56:12.126382Z",
     "iopub.status.idle": "2022-09-02T19:56:12.134818Z",
     "shell.execute_reply": "2022-09-02T19:56:12.133691Z"
    },
    "papermill": {
     "duration": 0.016863,
     "end_time": "2022-09-02T19:56:12.137253",
     "exception": false,
     "start_time": "2022-09-02T19:56:12.120390",
     "status": "completed"
    },
    "tags": []
   },
   "outputs": [
    {
     "data": {
      "text/plain": [
       "Index(['balance_due', 'collection_status', 'compliance', 'compliance_detail',\n",
       "       'payment_amount', 'payment_date', 'payment_status'],\n",
       "      dtype='object')"
      ]
     },
     "execution_count": 7,
     "metadata": {},
     "output_type": "execute_result"
    }
   ],
   "source": [
    "mapped_training_set.columns.difference(mapped_test_set.columns)"
   ]
  },
  {
   "cell_type": "code",
   "execution_count": 8,
   "id": "967b6d5b",
   "metadata": {
    "execution": {
     "iopub.execute_input": "2022-09-02T19:56:12.148924Z",
     "iopub.status.busy": "2022-09-02T19:56:12.148523Z",
     "iopub.status.idle": "2022-09-02T19:56:12.156479Z",
     "shell.execute_reply": "2022-09-02T19:56:12.155287Z"
    },
    "papermill": {
     "duration": 0.017,
     "end_time": "2022-09-02T19:56:12.159045",
     "exception": false,
     "start_time": "2022-09-02T19:56:12.142045",
     "status": "completed"
    },
    "tags": []
   },
   "outputs": [
    {
     "data": {
      "text/plain": [
       "array([ 0.,  1., nan, ..., nan, nan, nan])"
      ]
     },
     "execution_count": 8,
     "metadata": {},
     "output_type": "execute_result"
    }
   ],
   "source": [
    "mapped_training_set.compliance.values"
   ]
  },
  {
   "cell_type": "code",
   "execution_count": null,
   "id": "e4c3d98c",
   "metadata": {
    "papermill": {
     "duration": 0.004445,
     "end_time": "2022-09-02T19:56:12.168350",
     "exception": false,
     "start_time": "2022-09-02T19:56:12.163905",
     "status": "completed"
    },
    "tags": []
   },
   "outputs": [],
   "source": []
  }
 ],
 "metadata": {
  "kernelspec": {
   "display_name": "Python 3",
   "language": "python",
   "name": "python3"
  },
  "language_info": {
   "codemirror_mode": {
    "name": "ipython",
    "version": 3
   },
   "file_extension": ".py",
   "mimetype": "text/x-python",
   "name": "python",
   "nbconvert_exporter": "python",
   "pygments_lexer": "ipython3",
   "version": "3.7.12"
  },
  "papermill": {
   "default_parameters": {},
   "duration": 16.309617,
   "end_time": "2022-09-02T19:56:12.896021",
   "environment_variables": {},
   "exception": null,
   "input_path": "__notebook__.ipynb",
   "output_path": "__notebook__.ipynb",
   "parameters": {},
   "start_time": "2022-09-02T19:55:56.586404",
   "version": "2.3.4"
  }
 },
 "nbformat": 4,
 "nbformat_minor": 5
}
